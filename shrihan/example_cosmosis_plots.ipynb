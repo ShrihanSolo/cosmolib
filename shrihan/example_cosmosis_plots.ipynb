{
 "cells": [
  {
   "cell_type": "code",
   "execution_count": 1,
   "metadata": {
    "tags": []
   },
   "outputs": [
    {
     "name": "stdout",
     "output_type": "stream",
     "text": [
      "Matplotlib version: 3.9.2\n",
      "GetDist version: 1.4.9\n"
     ]
    }
   ],
   "source": [
    "import matplotlib\n",
    "import getdist\n",
    "\n",
    "print(\"Matplotlib version:\", matplotlib.__version__)\n",
    "print(\"GetDist version:\", getdist.__version__)"
   ]
  },
  {
   "cell_type": "code",
   "execution_count": 2,
   "metadata": {
    "tags": []
   },
   "outputs": [],
   "source": [
    "import getdist\n",
    "from getdist import plots, MCSamples\n",
    "from getdist.paramnames import escapeLatex, makeList, mergeRenames\n",
    "import numpy as np\n",
    "import pandas as pd\n",
    "import matplotlib.pyplot as plt\n",
    "import matplotlib\n",
    "%matplotlib inline\n",
    "matplotlib.use('Agg')\n",
    "\n",
    "g = plots.getSubplotPlotter(width_inch=8)"
   ]
  },
  {
   "cell_type": "code",
   "execution_count": 3,
   "metadata": {
    "tags": []
   },
   "outputs": [],
   "source": [
    "ss_4b_lcdm = '/global/cfs/cdirs/des/www/y3_chains/3x2pt/maglim/lens_sompz/data/chain_maglim_sompz_2x2pt_lcdm_4bins_shiftstretch.txt'\n",
    "chain_ss_4b_lcdm = np.genfromtxt(ss_4b_lcdm, names=True)"
   ]
  },
  {
   "cell_type": "code",
   "execution_count": 4,
   "metadata": {
    "tags": []
   },
   "outputs": [],
   "source": [
    "fiducial_2x2_lcdm_4b = '/global/cfs/cdirs/des/www/y3_chains/3x2pt/final_paper_chains/chain_2x2pt_lcdm_SR_maglim.txt'\n",
    "chain_fiducial_2x2_lcdm_4b = np.genfromtxt(fiducial_2x2_lcdm_4b, names=True)"
   ]
  },
  {
   "cell_type": "code",
   "execution_count": 6,
   "metadata": {
    "tags": []
   },
   "outputs": [
    {
     "name": "stdout",
     "output_type": "stream",
     "text": [
      "Removed no burn in\n",
      "Removed no burn in\n"
     ]
    }
   ],
   "source": [
    "omm = 0.#,#0.03\n",
    "oss = 0.#,#0.03\n",
    "uu = chain_ss_4b_lcdm\n",
    "ss_4b = MCSamples(samples=np.c_[uu['cosmological_parametersomega_m']+omm,uu['COSMOLOGICAL_PARAMETERSSIGMA_8'],\n",
    "                               (uu['COSMOLOGICAL_PARAMETERSSIGMA_8'])*np.sqrt((uu['cosmological_parametersomega_m'])/0.3)+oss,\n",
    "                                uu['cosmological_parametersn_s']],\n",
    "                                weights=(uu['weight']), names = ['Om','sigma8','s8','ns'], labels = ['\\Omega_{m}','\\sigma8','S_8','ns'])\n",
    "\n",
    "uu = chain_fiducial_2x2_lcdm_4b\n",
    "fid_4b = MCSamples(samples=np.c_[uu['cosmological_parametersomega_m']+omm,uu['COSMOLOGICAL_PARAMETERSSIGMA_8'],\n",
    "                                (uu['COSMOLOGICAL_PARAMETERSSIGMA_8'])*np.sqrt((uu['cosmological_parametersomega_m'])/0.3)+oss,\n",
    "                                 uu['cosmological_parametersn_s']],\n",
    "                                 weights=(uu['weight']), names = ['Om','sigma8','s8','ns'], labels = ['\\Omega_{m}','\\sigma8','S_8','ns'])\n",
    "\n",
    "\n",
    "g.settings.axes_labelsize = 20\n",
    "g.settings.axes_fontsize =15\n",
    "g.settings.legend_fontsize = 20\n",
    "g.settings.linewidth = 2\n",
    "\n",
    "g.triangle_plot([ fid_4b, ss_4b], ['Om','s8'], filled=[False,False,True, True], \n",
    "                colors=['coral','steelblue'], alphas=[1,1, 0.6], \n",
    "                legend_labels=['DNF+WZ','SOMPZ+WZ','fiducial LCDM','SOMPZ+WZ LCDM'],  legend_loc='upper right',fontsize=15, \n",
    "                contour_colors=['coral','steelblue'],\n",
    "                ls = ['-','-','-','-'], contour_ls = ['-','-','-','-'])   \n",
    "\n",
    "g.add_text('LCDM 2x2pt 4 bins\\nFiducial', fontsize = 20, y = 1.5)\n",
    "# plt.draw()\n",
    "plt.show()\n",
    "# g.export('/global/homes/g/giannini/sompz/paper_plots/s8_4b_2x2_lcdm_fiducial_sompz2.pdf')\n",
    "\n"
   ]
  },
  {
   "cell_type": "code",
   "execution_count": 6,
   "metadata": {},
   "outputs": [
    {
     "name": "stdout",
     "output_type": "stream",
     "text": [
      "Removed no burn in\n",
      "Removed no burn in\n",
      "Removed no burn in\n",
      "Removed no burn in\n"
     ]
    }
   ],
   "source": [
    "uu = chain_ss_4b_lcdm\n",
    "ss_4b = MCSamples(samples=np.c_[uu['cosmological_parametersomega_m'],uu['COSMOLOGICAL_PARAMETERSSIGMA_8'],\n",
    "                                (uu['COSMOLOGICAL_PARAMETERSSIGMA_8'])*np.sqrt((uu['cosmological_parametersomega_m'])/0.3),],\n",
    "                                 weights=(uu['weight']), names = ['Om','sigma8','s8'], labels = ['\\Omega_{m}','\\sigma8','S_8'])\n",
    "\n",
    "uu = chain_fiducial_2x2_lcdm_4b\n",
    "fid_4b = MCSamples(samples=np.c_[uu['cosmological_parametersomega_m'],uu['COSMOLOGICAL_PARAMETERSSIGMA_8'],\n",
    "                                 (uu['COSMOLOGICAL_PARAMETERSSIGMA_8'])*np.sqrt((uu['cosmological_parametersomega_m'])/0.3),],\n",
    "                                  weights=(uu['weight']), names = ['Om','sigma8','s8'], labels = ['\\Omega_{m}','\\sigma8','S_8'])\n"
   ]
  },
  {
   "cell_type": "code",
   "execution_count": 7,
   "metadata": {
    "tags": []
   },
   "outputs": [],
   "source": [
    "ss_4b_params = ss_4b.getParams()\n",
    "fid_4b_params = fid_4b.getParams()"
   ]
  },
  {
   "cell_type": "code",
   "execution_count": 8,
   "metadata": {
    "tags": []
   },
   "outputs": [
    {
     "name": "stdout",
     "output_type": "stream",
     "text": [
      "Omega_m: 0.297+-0.034\n",
      "Omega_m: 0.320+-0.037\n"
     ]
    }
   ],
   "source": [
    "print  (\"Omega_m: {0:2.3f}+-{1:2.3f}\".format( ss_4b.mean(ss_4b_params.Om),0.5*(ss_4b.twoTailLimits(ss_4b_params.Om, 0.68)[1]-ss_4b.twoTailLimits(ss_4b_params.Om, 0.68)[0])))\n",
    "print  (\"Omega_m: {0:2.3f}+-{1:2.3f}\".format( fid_4b.mean(fid_4b_params.Om),0.5*(fid_4b.twoTailLimits(fid_4b_params.Om, 0.68)[1]-fid_4b.twoTailLimits(fid_4b_params.Om, 0.68)[0])))\n"
   ]
  },
  {
   "cell_type": "code",
   "execution_count": 9,
   "metadata": {
    "tags": []
   },
   "outputs": [
    {
     "name": "stdout",
     "output_type": "stream",
     "text": [
      "s8: 0.805+-0.036\n",
      "s8: 0.778+-0.035\n"
     ]
    }
   ],
   "source": [
    "print  (\"s8: {0:2.3f}+-{1:2.3f}\".format( ss_4b.mean(ss_4b_params.s8),0.5*(ss_4b.twoTailLimits(ss_4b_params.s8, 0.68)[1]-ss_4b.twoTailLimits(ss_4b_params.s8, 0.68)[0])))\n",
    "print  (\"s8: {0:2.3f}+-{1:2.3f}\".format( fid_4b.mean(fid_4b_params.s8),0.5*(fid_4b.twoTailLimits(fid_4b_params.s8, 0.68)[1]-fid_4b.twoTailLimits(fid_4b_params.s8, 0.68)[0])))\n"
   ]
  },
  {
   "cell_type": "code",
   "execution_count": 12,
   "metadata": {
    "tags": []
   },
   "outputs": [
    {
     "name": "stdout",
     "output_type": "stream",
     "text": [
      "sigma8: 0.814+-0.074\n",
      "sigma8: 0.758+-0.069\n"
     ]
    }
   ],
   "source": [
    "print  (\"sigma8: {0:2.3f}+-{1:2.3f}\".format( ss_4b.mean(ss_4b_params.sigma8),0.5*(ss_4b.twoTailLimits(ss_4b_params.sigma8, 0.68)[1]-ss_4b.twoTailLimits(ss_4b_params.sigma8, 0.68)[0])))\n",
    "print  (\"sigma8: {0:2.3f}+-{1:2.3f}\".format( fid_4b.mean(fid_4b_params.sigma8),0.5*(fid_4b.twoTailLimits(fid_4b_params.sigma8, 0.68)[1]-fid_4b.twoTailLimits(fid_4b_params.sigma8, 0.68)[0])))\n"
   ]
  },
  {
   "cell_type": "code",
   "execution_count": null,
   "metadata": {},
   "outputs": [],
   "source": []
  }
 ],
 "metadata": {
  "kernelspec": {
   "display_name": "SOMPZ",
   "language": "python",
   "name": "sompz"
  },
  "language_info": {
   "codemirror_mode": {
    "name": "ipython",
    "version": 3
   },
   "file_extension": ".py",
   "mimetype": "text/x-python",
   "name": "python",
   "nbconvert_exporter": "python",
   "pygments_lexer": "ipython3",
   "version": "3.10.9"
  }
 },
 "nbformat": 4,
 "nbformat_minor": 4
}
