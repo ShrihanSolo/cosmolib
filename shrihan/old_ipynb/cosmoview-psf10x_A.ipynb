{
 "cells": [
  {
   "cell_type": "code",
   "execution_count": 17,
   "metadata": {},
   "outputs": [],
   "source": [
    "from astropy.io import fits\n",
    "import numpy as np\n",
    "import matplotlib.pyplot as plt\n",
    "from pathlib import Path\n",
    "from twopoint import twopoint\n",
    "import plot\n",
    "import joblib\n",
    "from numpy.lib import recfunctions as rfn\n",
    "import treecorr\n",
    "import os\n"
   ]
  },
  {
   "cell_type": "code",
   "execution_count": 18,
   "metadata": {},
   "outputs": [],
   "source": [
    "fpath = Path(\"giulia_2pt/giulia_2pt_example.fits\")\n",
    "ffile = fits.open(fpath)\n",
    "del ffile[4:6]\n",
    "del ffile[-1]"
   ]
  },
  {
   "cell_type": "code",
   "execution_count": 19,
   "metadata": {},
   "outputs": [],
   "source": [
    "weaklens_dir = Path.cwd().parent.parent\n",
    "run_dir = weaklens_dir / \"inhomogeneity_sims\" / \"imprint_sims\" / \"DES\" / \"nladd\" / \"psf10x_A\"\n"
   ]
  },
  {
   "cell_type": "code",
   "execution_count": 20,
   "metadata": {},
   "outputs": [
    {
     "name": "stdout",
     "output_type": "stream",
     "text": [
      "/home/shrihan/weaklens/inhomogeneity_sims/imprint_sims/DES/nladd/psf10x_A/gg_r00.pickle\n",
      "/home/shrihan/weaklens/inhomogeneity_sims/imprint_sims/DES/nladd/psf10x_A/gg_r01.pickle\n",
      "/home/shrihan/weaklens/inhomogeneity_sims/imprint_sims/DES/nladd/psf10x_A/gg_r11.pickle\n",
      "/home/shrihan/weaklens/inhomogeneity_sims/imprint_sims/DES/nladd/psf10x_A/gg_r02.pickle\n",
      "/home/shrihan/weaklens/inhomogeneity_sims/imprint_sims/DES/nladd/psf10x_A/gg_r12.pickle\n",
      "/home/shrihan/weaklens/inhomogeneity_sims/imprint_sims/DES/nladd/psf10x_A/gg_r22.pickle\n",
      "/home/shrihan/weaklens/inhomogeneity_sims/imprint_sims/DES/nladd/psf10x_A/gg_r03.pickle\n",
      "/home/shrihan/weaklens/inhomogeneity_sims/imprint_sims/DES/nladd/psf10x_A/gg_r13.pickle\n",
      "/home/shrihan/weaklens/inhomogeneity_sims/imprint_sims/DES/nladd/psf10x_A/gg_r23.pickle\n",
      "/home/shrihan/weaklens/inhomogeneity_sims/imprint_sims/DES/nladd/psf10x_A/gg_r33.pickle\n"
     ]
    }
   ],
   "source": [
    "import pickle\n",
    "\n",
    "npairs_dict = {}\n",
    "\n",
    "for i in range(0, 4):\n",
    "    for j in range(0, i + 1):\n",
    "        pickle_file = run_dir / \"gg_r{0}{1}.pickle\".format(j, i)\n",
    "        print(pickle_file)\n",
    "        with open(pickle_file, 'rb') as f:\n",
    "            gg_data = pickle.load(f)\n",
    "            npairs_dict[(j + 1, i + 1)] = gg_data.npairs"
   ]
  },
  {
   "cell_type": "code",
   "execution_count": 21,
   "metadata": {},
   "outputs": [],
   "source": [
    "cross_xip = {}\n",
    "cross_xim = {}\n",
    "theta_corr = {}\n",
    "\n",
    "# Load the xip and jackknife uncertainty in xip from treecorr for each binning\n",
    "for i in range(0, 4):\n",
    "    for j in range(0, i + 1):\n",
    "        cross_xip[(j + 1, i + 1)] = np.load(run_dir / \"xip_corr_r{0}{1}.npy\".format(j, i))\n",
    "        cross_xim[(j + 1, i + 1)] = np.load(run_dir / \"xim_corr_r{0}{1}.npy\".format(j, i))\n",
    "        theta_corr[(j + 1, i + 1)] = np.load(run_dir / \"theta_corr_r{0}{1}.npy\".format(j, i))"
   ]
  },
  {
   "cell_type": "code",
   "execution_count": 22,
   "metadata": {},
   "outputs": [],
   "source": [
    "xip_data = ffile[2].data\n",
    "xim_data = ffile[3].data\n",
    "\n",
    "val_xip = np.zeros(10 * 20)\n",
    "val_xim = np.zeros(10 * 20)\n",
    "npairs = np.zeros(10 * 20)\n",
    "\n",
    "for i in range(len(val_xip)):\n",
    "    val_xip[i] = cross_xip[(xip_data['BIN1'][i], xip_data['BIN2'][i])][xip_data['ANGBIN'][i]]\n",
    "    val_xim[i] = cross_xim[(xim_data['BIN1'][i], xim_data['BIN2'][i])][xim_data['ANGBIN'][i]]\n",
    "    npairs[i] = npairs_dict[(xip_data['BIN1'][i], xip_data['BIN2'][i])][xip_data['ANGBIN'][i]]\n",
    "    \n",
    "xip_data['VALUE'] = val_xip\n",
    "xim_data['VALUE'] = val_xim\n",
    "xip_data['NPAIRS'] = npairs\n",
    "xim_data['NPAIRS'] = npairs\n",
    "\n",
    "# Changing the NPAIRS column to 1 doesnt make a diff, but using treecorr output anyway\n",
    "# xip_data['NPAIRS']  = 1\n",
    "# xim_data['NPAIRS']  = 1\n",
    "\n",
    "# Dropping the NPAIRS column causes errors\n",
    "# xip_b = rfn.drop_fields(xip_data, 'NPAIRS')\n",
    "# xim_b = rfn.drop_fields(xim_data, 'NPAIRS')\n",
    "\n",
    "ffile[2].data = xip_data\n",
    "ffile[3].data = xim_data\n"
   ]
  },
  {
   "cell_type": "markdown",
   "metadata": {},
   "source": [
    "!cat ../cosmocow/covs/output/out_cov_desy3_shrihan_fp_rt2_norm_ng/d* > shrihan/covdata.txt"
   ]
  },
  {
   "cell_type": "code",
   "execution_count": 23,
   "metadata": {},
   "outputs": [],
   "source": [
    "import plot"
   ]
  },
  {
   "cell_type": "code",
   "execution_count": 24,
   "metadata": {},
   "outputs": [
    {
     "name": "stdout",
     "output_type": "stream",
     "text": [
      "Dimension of cov: 400x400\n"
     ]
    },
    {
     "data": {
      "text/plain": [
       "Text(0.5, 1.0, 'Final Covariance')"
      ]
     },
     "execution_count": 24,
     "metadata": {},
     "output_type": "execute_result"
    }
   ],
   "source": [
    "cov_g, cov_ng, ndata = plot.get_cov(\"covdata.txt\")\n",
    "cov = cov_g + cov_ng\n",
    "pp_norm = np.zeros((ndata,ndata))\n",
    "for i in range(ndata):\n",
    "    for j in range(ndata):\n",
    "        pp_norm[i][j] = cov[i][j]/ np.sqrt(cov[i][i]*cov[j][j])\n",
    "        \n",
    "plt.imshow(pp_norm, cmap = 'seismic', vmin = -1, vmax = 1)\n",
    "plt.colorbar()\n",
    "plt.title(\"Final Covariance\")"
   ]
  },
  {
   "cell_type": "code",
   "execution_count": 25,
   "metadata": {},
   "outputs": [],
   "source": [
    "ffile[1].header.pop('STRT_2', None)\n",
    "ffile[1].header.pop('NAME_2', None)\n",
    "ffile[1].header.pop('STRT_3', None)\n",
    "ffile[1].header.pop('NAME_3', None)\n",
    "ffile[1].header['NAXIS1'] = 400\n",
    "ffile[1].header['NAXIS2'] = 400\n",
    "ffile[1].data = cov"
   ]
  },
  {
   "cell_type": "code",
   "execution_count": 26,
   "metadata": {},
   "outputs": [],
   "source": [
    "des_data = run_dir.parent.parent / \"DES_Data\"\n",
    "\n",
    "with open(des_data / 'z_sources_y3.pkl', 'rb') as f:\n",
    "    ztomo = joblib.load(f)\n",
    "with open(des_data / 'nz_sources_y3.pkl', 'rb') as f:\n",
    "    nztomo = joblib.load(f)"
   ]
  },
  {
   "cell_type": "code",
   "execution_count": 27,
   "metadata": {},
   "outputs": [
    {
     "data": {
      "text/plain": [
       "[<matplotlib.lines.Line2D at 0x7f84199f7b10>]"
      ]
     },
     "execution_count": 27,
     "metadata": {},
     "output_type": "execute_result"
    }
   ],
   "source": [
    "plt.plot(ztomo, nztomo[0], label = 'Source 1')\n",
    "plt.plot(ztomo, nztomo[1], label = 'Source 2')\n",
    "plt.plot(ztomo, nztomo[2], label = 'Source 3')\n",
    "plt.plot(ztomo, nztomo[3], label = 'Source 4')"
   ]
  },
  {
   "cell_type": "code",
   "execution_count": 28,
   "metadata": {},
   "outputs": [
    {
     "data": {
      "text/plain": [
       "[<matplotlib.lines.Line2D at 0x7f8419796f10>]"
      ]
     },
     "execution_count": 28,
     "metadata": {},
     "output_type": "execute_result"
    }
   ],
   "source": [
    "plt.plot(ffile[4].data['Z_MID'], ffile[4].data['BIN1'], label = 'Source 1')\n",
    "plt.plot(ffile[4].data['Z_MID'], ffile[4].data['BIN2'], label = 'Source 2')\n",
    "plt.plot(ffile[4].data['Z_MID'], ffile[4].data['BIN3'], label = 'Source 3')\n",
    "plt.plot(ffile[4].data['Z_MID'], ffile[4].data['BIN4'], label = 'Source 4')"
   ]
  },
  {
   "cell_type": "code",
   "execution_count": 29,
   "metadata": {},
   "outputs": [],
   "source": [
    "n_density = [1.475584985490327, \n",
    "             1.479383426887689,\n",
    "             1.483671693529899,\n",
    "             1.461247850098986]\n",
    "\n",
    "sigma_all = [0.243, 0.262, 0.259, 0.301]\n",
    "\n",
    "zhead = ffile[4].header\n",
    "zhead['NBIN'] = 4\n",
    "zhead['NZ'] = 300\n",
    "\n",
    "for i in range(4):\n",
    "    zhead[f'NGAL_{i + 1}'] = n_density[i]\n",
    "for i in range(4):\n",
    "    zhead[f'SIG_E_{i + 1}'] = sigma_all[i]\n",
    "\n",
    "zdata = ffile[4].data\n",
    "z_a = np.recarray(len(ztomo), dtype=zdata.dtype)\n",
    "z_b = rfn.drop_fields(z_a, 'BIN5')\n",
    "znew = rfn.drop_fields(z_b, 'BIN6')\n",
    "del z_a, z_b\n",
    "znew['Z_MID'] = ztomo\n",
    "znew['Z_LOW'] = ztomo - ztomo[0]\n",
    "znew['Z_HIGH'] = ztomo + ztomo[0]\n",
    "for i in range(4):\n",
    "    znew[f'BIN{i + 1}'] = nztomo[i]\n",
    "ffile[4].data = znew\n",
    "\n"
   ]
  },
  {
   "cell_type": "code",
   "execution_count": 30,
   "metadata": {},
   "outputs": [],
   "source": [
    "save_dirname = Path(\"psf10x_A_2pt\")\n",
    "os.makedirs(save_dirname, exist_ok=True)\n",
    "os.makedirs(save_dirname / \"figures\", exist_ok=True)\n",
    "savepath = save_dirname / \"psf10x_A_2pt.fits\"\n",
    "\n",
    "# orig_dirname = Path(\"giulia_2pt\")\n",
    "# os.makedirs(orig_dirname, exist_ok=True)\n",
    "# os.makedirs(orig_dirname / \"figures\", exist_ok=True)\n",
    "# opath = orig_dirname / \"giulia_2pt_example.fits\"\n",
    "\n",
    "ffile.writeto(savepath, overwrite=True)"
   ]
  },
  {
   "cell_type": "markdown",
   "metadata": {},
   "source": [
    "import matplotlib as mpl\n",
    "mpl.rcParams.update(mpl.rcParamsDefault)\n",
    "\n",
    "T2 = twopoint.TwoPointFile.from_fits(opath)\n",
    "oldpath = opath.parent / \"figures\" / opath.stem\n",
    "T2.plots(oldpath, colormap='viridis', savepdf=False, latex=False, plot_spectrum=True, plot_kernel=True, plot_cov=True, cov_vmin=None, sharey=True, save_pickle=False, load_pickle=False, remove_pickle=True,label_legend ='', blind_yaxis=False, shade_until=None)"
   ]
  },
  {
   "cell_type": "code",
   "execution_count": 14,
   "metadata": {},
   "outputs": [
    {
     "name": "stderr",
     "output_type": "stream",
     "text": [
      "No artists with labels found to put in legend.  Note that artists whose label start with an underscore are ignored when legend() is called with no argument.\n"
     ]
    },
    {
     "name": "stdout",
     "output_type": "stream",
     "text": [
      "Saving psf10x_A_2pt/figures/psf10x_A_2pt_xip\n"
     ]
    },
    {
     "name": "stderr",
     "output_type": "stream",
     "text": [
      "No artists with labels found to put in legend.  Note that artists whose label start with an underscore are ignored when legend() is called with no argument.\n"
     ]
    },
    {
     "name": "stdout",
     "output_type": "stream",
     "text": [
      "Saving psf10x_A_2pt/figures/psf10x_A_2pt_xim\n",
      "Saving psf10x_A_2pt/figures/psf10x_A_2pt_nz_source\n",
      "Saving psf10x_A_2pt/figures/psf10x_A_2pt_cov\n"
     ]
    }
   ],
   "source": [
    "import matplotlib as mpl\n",
    "mpl.rcParams.update(mpl.rcParamsDefault)\n",
    "\n",
    "T3 = twopoint.TwoPointFile.from_fits(savepath)\n",
    "spath = savepath.parent / \"figures\" / savepath.stem\n",
    "T3.plots(spath, colormap='viridis', savepdf=False, latex=False, plot_spectrum=True, plot_kernel=True, plot_cov=True, cov_vmin=None, sharey=True, save_pickle=False, load_pickle=False, remove_pickle=True,label_legend ='', blind_yaxis=False, shade_until=None)"
   ]
  },
  {
   "cell_type": "code",
   "execution_count": 15,
   "metadata": {},
   "outputs": [
    {
     "ename": "NameError",
     "evalue": "name 'opath' is not defined",
     "output_type": "error",
     "traceback": [
      "\u001b[0;31m---------------------------------------------------------------------------\u001b[0m",
      "\u001b[0;31mNameError\u001b[0m                                 Traceback (most recent call last)",
      "Cell \u001b[0;32mIn[15], line 2\u001b[0m\n\u001b[1;32m      1\u001b[0m savefile \u001b[38;5;241m=\u001b[39m fits\u001b[38;5;241m.\u001b[39mopen(savepath)\n\u001b[0;32m----> 2\u001b[0m oldfile \u001b[38;5;241m=\u001b[39m fits\u001b[38;5;241m.\u001b[39mopen(opath)\n",
      "\u001b[0;31mNameError\u001b[0m: name 'opath' is not defined"
     ]
    }
   ],
   "source": [
    "savefile = fits.open(savepath)\n",
    "oldfile = fits.open(opath)"
   ]
  },
  {
   "cell_type": "code",
   "execution_count": 22,
   "metadata": {},
   "outputs": [
    {
     "name": "stdout",
     "output_type": "stream",
     "text": [
      "Filename: fiducialA_2pt/fiducialA_2pt.fits\n",
      "No.    Name      Ver    Type      Cards   Dimensions   Format\n",
      "  0  PRIMARY       1 PrimaryHDU       4   ()      \n",
      "  1  COVMAT        1 ImageHDU        13   (400, 400)   float64   \n",
      "  2  xip           1 BinTableHDU     39   200R x 8C   [K, K, K, D, D, D, D, D]   \n",
      "  3  xim           1 BinTableHDU     39   200R x 8C   [K, K, K, D, D, D, D, D]   \n",
      "  4  nz_source     1 BinTableHDU     34   300R x 7C   [D, D, D, D, D, D, D]   \n"
     ]
    }
   ],
   "source": [
    "savefile.info()"
   ]
  },
  {
   "cell_type": "code",
   "execution_count": 23,
   "metadata": {},
   "outputs": [
    {
     "name": "stdout",
     "output_type": "stream",
     "text": [
      "Filename: giulia_2pt/giulia_2pt_example.fits\n",
      "No.    Name      Ver    Type      Cards   Dimensions   Format\n",
      "  0  PRIMARY       1 PrimaryHDU       4   ()      \n",
      "  1  COVMAT        1 ImageHDU        17   (1000, 1000)   float64   \n",
      "  2  xip           1 BinTableHDU     39   200R x 8C   [K, K, K, D, D, D, D, D]   \n",
      "  3  xim           1 BinTableHDU     39   200R x 8C   [K, K, K, D, D, D, D, D]   \n",
      "  4  gammat        1 BinTableHDU     37   480R x 7C   [K, K, K, D, D, D, D]   \n",
      "  5  wtheta        1 BinTableHDU     39   120R x 8C   [K, K, K, D, D, D, D, D]   \n",
      "  6  nz_source     1 BinTableHDU     32   300R x 7C   [D, D, D, D, D, D, D]   \n",
      "  7  nz_lens       1 BinTableHDU     34   150R x 9C   [D, D, D, D, D, D, D, D, D]   \n"
     ]
    }
   ],
   "source": [
    "oldfile.info()"
   ]
  },
  {
   "cell_type": "code",
   "execution_count": null,
   "metadata": {},
   "outputs": [],
   "source": []
  }
 ],
 "metadata": {
  "kernelspec": {
   "display_name": "weaklens2",
   "language": "python",
   "name": "python3"
  },
  "language_info": {
   "codemirror_mode": {
    "name": "ipython",
    "version": 3
   },
   "file_extension": ".py",
   "mimetype": "text/x-python",
   "name": "python",
   "nbconvert_exporter": "python",
   "pygments_lexer": "ipython3",
   "version": "3.11.5"
  }
 },
 "nbformat": 4,
 "nbformat_minor": 2
}
